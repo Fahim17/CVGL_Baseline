{
 "cells": [
  {
   "cell_type": "code",
   "execution_count": 1,
   "metadata": {},
   "outputs": [
    {
     "name": "stderr",
     "output_type": "stream",
     "text": [
      "/home/fahimul/.conda/envs/CVGL/lib/python3.11/site-packages/tqdm/auto.py:21: TqdmWarning: IProgress not found. Please update jupyter and ipywidgets. See https://ipywidgets.readthedocs.io/en/stable/user_install.html\n",
      "  from .autonotebook import tqdm as notebook_tqdm\n",
      "/home/fahimul/.conda/envs/CVGL/lib/python3.11/site-packages/huggingface_hub/file_download.py:1132: FutureWarning: `resume_download` is deprecated and will be removed in version 1.0.0. Downloads always resume when possible. If you want to force a new download, use `force_download=True`.\n",
      "  warnings.warn(\n",
      "/home/fahimul/.conda/envs/CVGL/lib/python3.11/site-packages/huggingface_hub/file_download.py:1132: FutureWarning: `resume_download` is deprecated and will be removed in version 1.0.0. Downloads always resume when possible. If you want to force a new download, use `force_download=True`.\n",
      "  warnings.warn(\n",
      "/home/fahimul/.conda/envs/CVGL/lib/python3.11/site-packages/huggingface_hub/file_download.py:1132: FutureWarning: `resume_download` is deprecated and will be removed in version 1.0.0. Downloads always resume when possible. If you want to force a new download, use `force_download=True`.\n",
      "  warnings.warn(\n"
     ]
    },
    {
     "name": "stdout",
     "output_type": "stream",
     "text": [
      "\n",
      "Hyperparameter info:\n",
      "Exp ID: 9264928\n",
      "Embedded dimension: 768\n",
      "Learning rate: 1e-05\n",
      "Batch Size: 64\n",
      "Loss Margin: 1\n",
      "Epoch: 100\n",
      "Training Size: 35532\n",
      "Validation Size: 8884\n",
      "Model Name: CLIP\n",
      "\n",
      "\n",
      "Training Start\n",
      "\n",
      "Date: 2024-06-24 17:35:30.573150\n",
      "\n",
      "Epoch#1\n"
     ]
    },
    {
     "name": "stderr",
     "output_type": "stream",
     "text": [
      "100%|██████████| 556/556 [23:23<00:00,  2.52s/it]\n"
     ]
    },
    {
     "name": "stdout",
     "output_type": "stream",
     "text": [
      "Epoch: 1/100 Loss: 3.6563124656677246\n",
      "Epoch#2\n"
     ]
    },
    {
     "name": "stderr",
     "output_type": "stream",
     "text": [
      "100%|██████████| 556/556 [23:27<00:00,  2.53s/it]\n",
      "/home/fahimul/.conda/envs/CVGL/lib/python3.11/site-packages/huggingface_hub/file_download.py:1132: FutureWarning: `resume_download` is deprecated and will be removed in version 1.0.0. Downloads always resume when possible. If you want to force a new download, use `force_download=True`.\n",
      "  warnings.warn(\n"
     ]
    },
    {
     "name": "stdout",
     "output_type": "stream",
     "text": [
      "Epoch: 2/100 Loss: 3.5065524578094482\n",
      "\n",
      "Train Step Eval: 2\n",
      "\n",
      "\n",
      "Number of Validation data: 8884\n",
      "\n",
      "Extract Features:\n"
     ]
    },
    {
     "name": "stderr",
     "output_type": "stream",
     "text": [
      "100%|██████████| 139/139 [05:37<00:00,  2.43s/it]\n"
     ]
    },
    {
     "name": "stdout",
     "output_type": "stream",
     "text": [
      "Compute Scores:\n",
      "Percentage-top1:13.991445294912202, top5:34.5114813147231, top10:46.443043674020714, top1%:82.91310220621342, time:0.222245454788208\n",
      "[13.99144529 34.51148131 46.44304367 82.91310221]\n",
      "Epoch#3\n"
     ]
    },
    {
     "name": "stderr",
     "output_type": "stream",
     "text": [
      "100%|██████████| 556/556 [23:22<00:00,  2.52s/it]\n"
     ]
    },
    {
     "name": "stdout",
     "output_type": "stream",
     "text": [
      "Epoch: 3/100 Loss: 3.471588373184204\n",
      "Epoch#4\n"
     ]
    },
    {
     "name": "stderr",
     "output_type": "stream",
     "text": [
      "100%|██████████| 556/556 [23:18<00:00,  2.52s/it]\n",
      "/home/fahimul/.conda/envs/CVGL/lib/python3.11/site-packages/huggingface_hub/file_download.py:1132: FutureWarning: `resume_download` is deprecated and will be removed in version 1.0.0. Downloads always resume when possible. If you want to force a new download, use `force_download=True`.\n",
      "  warnings.warn(\n"
     ]
    },
    {
     "name": "stdout",
     "output_type": "stream",
     "text": [
      "Epoch: 4/100 Loss: 3.4520132541656494\n",
      "\n",
      "Train Step Eval: 4\n",
      "\n",
      "\n",
      "Number of Validation data: 8884\n",
      "\n",
      "Extract Features:\n"
     ]
    },
    {
     "name": "stderr",
     "output_type": "stream",
     "text": [
      "100%|██████████| 139/139 [05:41<00:00,  2.45s/it]\n"
     ]
    },
    {
     "name": "stdout",
     "output_type": "stream",
     "text": [
      "Compute Scores:\n",
      "Percentage-top1:17.59342638451148, top5:40.9725348941918, top10:53.039171544349394, top1%:86.94281855020262, time:0.21639180183410645\n",
      "[17.59342638 40.97253489 53.03917154 86.94281855]\n",
      "Epoch#5\n"
     ]
    },
    {
     "name": "stderr",
     "output_type": "stream",
     "text": [
      "100%|██████████| 556/556 [23:27<00:00,  2.53s/it]\n"
     ]
    },
    {
     "name": "stdout",
     "output_type": "stream",
     "text": [
      "Epoch: 5/100 Loss: 3.4391725063323975\n",
      "Epoch#6\n"
     ]
    },
    {
     "name": "stderr",
     "output_type": "stream",
     "text": [
      "100%|██████████| 556/556 [23:27<00:00,  2.53s/it]\n",
      "/home/fahimul/.conda/envs/CVGL/lib/python3.11/site-packages/huggingface_hub/file_download.py:1132: FutureWarning: `resume_download` is deprecated and will be removed in version 1.0.0. Downloads always resume when possible. If you want to force a new download, use `force_download=True`.\n",
      "  warnings.warn(\n"
     ]
    },
    {
     "name": "stdout",
     "output_type": "stream",
     "text": [
      "Epoch: 6/100 Loss: 3.429814338684082\n",
      "\n",
      "Train Step Eval: 6\n",
      "\n",
      "\n",
      "Number of Validation data: 8884\n",
      "\n",
      "Extract Features:\n"
     ]
    },
    {
     "name": "stderr",
     "output_type": "stream",
     "text": [
      "100%|██████████| 139/139 [05:39<00:00,  2.44s/it]\n"
     ]
    },
    {
     "name": "stdout",
     "output_type": "stream",
     "text": [
      "Compute Scores:\n",
      "Percentage-top1:19.630796938316074, top5:43.95542548401621, top10:56.584871679423685, top1%:88.45114813147231, time:0.21959853172302246\n",
      "[19.63079694 43.95542548 56.58487168 88.45114813]\n",
      "Epoch#7\n"
     ]
    },
    {
     "name": "stderr",
     "output_type": "stream",
     "text": [
      "100%|██████████| 556/556 [23:21<00:00,  2.52s/it]\n"
     ]
    },
    {
     "name": "stdout",
     "output_type": "stream",
     "text": [
      "Epoch: 7/100 Loss: 3.4224894046783447\n",
      "Epoch#8\n"
     ]
    },
    {
     "name": "stderr",
     "output_type": "stream",
     "text": [
      "100%|██████████| 556/556 [23:21<00:00,  2.52s/it]\n",
      "/home/fahimul/.conda/envs/CVGL/lib/python3.11/site-packages/huggingface_hub/file_download.py:1132: FutureWarning: `resume_download` is deprecated and will be removed in version 1.0.0. Downloads always resume when possible. If you want to force a new download, use `force_download=True`.\n",
      "  warnings.warn(\n"
     ]
    },
    {
     "name": "stdout",
     "output_type": "stream",
     "text": [
      "Epoch: 8/100 Loss: 3.41652512550354\n",
      "\n",
      "Train Step Eval: 8\n",
      "\n",
      "\n",
      "Number of Validation data: 8884\n",
      "\n",
      "Extract Features:\n"
     ]
    },
    {
     "name": "stderr",
     "output_type": "stream",
     "text": [
      "100%|██████████| 139/139 [05:39<00:00,  2.44s/it]\n"
     ]
    },
    {
     "name": "stdout",
     "output_type": "stream",
     "text": [
      "Compute Scores:\n",
      "Percentage-top1:21.060333183250787, top5:46.16163890139577, top10:58.45339936965331, top1%:89.72309770373705, time:0.2379438877105713\n",
      "[21.06033318 46.1616389  58.45339937 89.7230977 ]\n",
      "Epoch#9\n"
     ]
    },
    {
     "name": "stderr",
     "output_type": "stream",
     "text": [
      "100%|██████████| 556/556 [23:33<00:00,  2.54s/it]\n"
     ]
    },
    {
     "name": "stdout",
     "output_type": "stream",
     "text": [
      "Epoch: 9/100 Loss: 3.4115021228790283\n",
      "Epoch#10\n"
     ]
    },
    {
     "name": "stderr",
     "output_type": "stream",
     "text": [
      "100%|██████████| 556/556 [23:32<00:00,  2.54s/it]\n",
      "/home/fahimul/.conda/envs/CVGL/lib/python3.11/site-packages/huggingface_hub/file_download.py:1132: FutureWarning: `resume_download` is deprecated and will be removed in version 1.0.0. Downloads always resume when possible. If you want to force a new download, use `force_download=True`.\n",
      "  warnings.warn(\n"
     ]
    },
    {
     "name": "stdout",
     "output_type": "stream",
     "text": [
      "Epoch: 10/100 Loss: 3.407140016555786\n",
      "\n",
      "Train Step Eval: 10\n",
      "\n",
      "\n",
      "Number of Validation data: 8884\n",
      "\n",
      "Extract Features:\n"
     ]
    },
    {
     "name": "stderr",
     "output_type": "stream",
     "text": [
      "100%|██████████| 139/139 [05:36<00:00,  2.42s/it]\n"
     ]
    },
    {
     "name": "stdout",
     "output_type": "stream",
     "text": [
      "Compute Scores:\n",
      "Percentage-top1:22.276001800990546, top5:47.613687528140474, top10:60.06303466906798, top1%:90.63484916704188, time:0.21936655044555664\n",
      "[22.2760018  47.61368753 60.06303467 90.63484917]\n",
      "Epoch#11\n"
     ]
    },
    {
     "name": "stderr",
     "output_type": "stream",
     "text": [
      "100%|██████████| 556/556 [23:08<00:00,  2.50s/it]\n"
     ]
    },
    {
     "name": "stdout",
     "output_type": "stream",
     "text": [
      "Epoch: 11/100 Loss: 3.4032504558563232\n",
      "Epoch#12\n"
     ]
    },
    {
     "name": "stderr",
     "output_type": "stream",
     "text": [
      "100%|██████████| 556/556 [23:07<00:00,  2.50s/it]\n",
      "/home/fahimul/.conda/envs/CVGL/lib/python3.11/site-packages/huggingface_hub/file_download.py:1132: FutureWarning: `resume_download` is deprecated and will be removed in version 1.0.0. Downloads always resume when possible. If you want to force a new download, use `force_download=True`.\n",
      "  warnings.warn(\n"
     ]
    },
    {
     "name": "stdout",
     "output_type": "stream",
     "text": [
      "Epoch: 12/100 Loss: 3.399721384048462\n",
      "\n",
      "Train Step Eval: 12\n",
      "\n",
      "\n",
      "Number of Validation data: 8884\n",
      "\n",
      "Extract Features:\n"
     ]
    },
    {
     "name": "stderr",
     "output_type": "stream",
     "text": [
      "100%|██████████| 139/139 [05:36<00:00,  2.42s/it]\n"
     ]
    },
    {
     "name": "stdout",
     "output_type": "stream",
     "text": [
      "Compute Scores:\n",
      "Percentage-top1:23.06393516434039, top5:48.86312471859523, top10:61.31247185952273, top1%:91.17514633048177, time:0.21869850158691406\n",
      "[23.06393516 48.86312472 61.31247186 91.17514633]\n",
      "Epoch#13\n"
     ]
    },
    {
     "name": "stderr",
     "output_type": "stream",
     "text": [
      "100%|██████████| 556/556 [23:06<00:00,  2.49s/it]\n"
     ]
    },
    {
     "name": "stdout",
     "output_type": "stream",
     "text": [
      "Epoch: 13/100 Loss: 3.3965072631835938\n",
      "Epoch#14\n"
     ]
    },
    {
     "name": "stderr",
     "output_type": "stream",
     "text": [
      "100%|██████████| 556/556 [23:06<00:00,  2.49s/it]\n",
      "/home/fahimul/.conda/envs/CVGL/lib/python3.11/site-packages/huggingface_hub/file_download.py:1132: FutureWarning: `resume_download` is deprecated and will be removed in version 1.0.0. Downloads always resume when possible. If you want to force a new download, use `force_download=True`.\n",
      "  warnings.warn(\n"
     ]
    },
    {
     "name": "stdout",
     "output_type": "stream",
     "text": [
      "Epoch: 14/100 Loss: 3.39359188079834\n",
      "\n",
      "Train Step Eval: 14\n",
      "\n",
      "\n",
      "Number of Validation data: 8884\n",
      "\n",
      "Extract Features:\n"
     ]
    },
    {
     "name": "stderr",
     "output_type": "stream",
     "text": [
      "100%|██████████| 139/139 [05:36<00:00,  2.42s/it]\n"
     ]
    },
    {
     "name": "stdout",
     "output_type": "stream",
     "text": [
      "Compute Scores:\n",
      "Percentage-top1:23.671769473210265, top5:49.86492570914003, top10:62.4831157136425, top1%:91.58036920306168, time:0.22087621688842773\n",
      "[23.67176947 49.86492571 62.48311571 91.5803692 ]\n",
      "Epoch#15\n"
     ]
    },
    {
     "name": "stderr",
     "output_type": "stream",
     "text": [
      "100%|██████████| 556/556 [23:15<00:00,  2.51s/it]\n"
     ]
    },
    {
     "name": "stdout",
     "output_type": "stream",
     "text": [
      "Epoch: 15/100 Loss: 3.390953540802002\n",
      "Epoch#16\n"
     ]
    },
    {
     "name": "stderr",
     "output_type": "stream",
     "text": [
      "100%|██████████| 556/556 [23:20<00:00,  2.52s/it]\n",
      "/home/fahimul/.conda/envs/CVGL/lib/python3.11/site-packages/huggingface_hub/file_download.py:1132: FutureWarning: `resume_download` is deprecated and will be removed in version 1.0.0. Downloads always resume when possible. If you want to force a new download, use `force_download=True`.\n",
      "  warnings.warn(\n"
     ]
    },
    {
     "name": "stdout",
     "output_type": "stream",
     "text": [
      "Epoch: 16/100 Loss: 3.388556480407715\n",
      "\n",
      "Train Step Eval: 16\n",
      "\n",
      "\n",
      "Number of Validation data: 8884\n",
      "\n",
      "Extract Features:\n"
     ]
    },
    {
     "name": "stderr",
     "output_type": "stream",
     "text": [
      "100%|██████████| 139/139 [05:38<00:00,  2.44s/it]\n"
     ]
    },
    {
     "name": "stdout",
     "output_type": "stream",
     "text": [
      "Compute Scores:\n",
      "Percentage-top1:24.122017109410177, top5:50.73165240882486, top10:63.34984241332733, top1%:91.87303016659163, time:0.21906805038452148\n",
      "[24.12201711 50.73165241 63.34984241 91.87303017]\n",
      "Epoch#17\n"
     ]
    },
    {
     "name": "stderr",
     "output_type": "stream",
     "text": [
      "100%|██████████| 556/556 [23:07<00:00,  2.50s/it]\n"
     ]
    },
    {
     "name": "stdout",
     "output_type": "stream",
     "text": [
      "Epoch: 17/100 Loss: 3.386362314224243\n",
      "Epoch#18\n"
     ]
    },
    {
     "name": "stderr",
     "output_type": "stream",
     "text": [
      "100%|██████████| 556/556 [23:12<00:00,  2.50s/it]\n",
      "/home/fahimul/.conda/envs/CVGL/lib/python3.11/site-packages/huggingface_hub/file_download.py:1132: FutureWarning: `resume_download` is deprecated and will be removed in version 1.0.0. Downloads always resume when possible. If you want to force a new download, use `force_download=True`.\n",
      "  warnings.warn(\n"
     ]
    },
    {
     "name": "stdout",
     "output_type": "stream",
     "text": [
      "Epoch: 18/100 Loss: 3.3843398094177246\n",
      "\n",
      "Train Step Eval: 18\n",
      "\n",
      "\n",
      "Number of Validation data: 8884\n",
      "\n",
      "Extract Features:\n"
     ]
    },
    {
     "name": "stderr",
     "output_type": "stream",
     "text": [
      "100%|██████████| 139/139 [05:36<00:00,  2.42s/it]\n"
     ]
    },
    {
     "name": "stdout",
     "output_type": "stream",
     "text": [
      "Compute Scores:\n",
      "Percentage-top1:24.74110760918505, top5:51.55335434488969, top10:63.78883385862224, top1%:92.39081494822152, time:0.2200307846069336\n",
      "[24.74110761 51.55335434 63.78883386 92.39081495]\n",
      "Epoch#19\n"
     ]
    },
    {
     "name": "stderr",
     "output_type": "stream",
     "text": [
      "100%|██████████| 556/556 [23:22<00:00,  2.52s/it]\n"
     ]
    },
    {
     "name": "stdout",
     "output_type": "stream",
     "text": [
      "Epoch: 19/100 Loss: 3.382462978363037\n",
      "Epoch#20\n"
     ]
    },
    {
     "name": "stderr",
     "output_type": "stream",
     "text": [
      "100%|██████████| 556/556 [23:23<00:00,  2.52s/it]\n",
      "/home/fahimul/.conda/envs/CVGL/lib/python3.11/site-packages/huggingface_hub/file_download.py:1132: FutureWarning: `resume_download` is deprecated and will be removed in version 1.0.0. Downloads always resume when possible. If you want to force a new download, use `force_download=True`.\n",
      "  warnings.warn(\n"
     ]
    },
    {
     "name": "stdout",
     "output_type": "stream",
     "text": [
      "Epoch: 20/100 Loss: 3.3807127475738525\n",
      "\n",
      "Train Step Eval: 20\n",
      "\n",
      "\n",
      "Number of Validation data: 8884\n",
      "\n",
      "Extract Features:\n"
     ]
    },
    {
     "name": "stderr",
     "output_type": "stream",
     "text": [
      "100%|██████████| 139/139 [05:34<00:00,  2.41s/it]\n"
     ]
    },
    {
     "name": "stdout",
     "output_type": "stream",
     "text": [
      "Compute Scores:\n",
      "Percentage-top1:25.506528590724898, top5:52.51013057181449, top10:64.43043674020711, top1%:92.67221972084646, time:0.2184147834777832\n",
      "[25.50652859 52.51013057 64.43043674 92.67221972]\n",
      "Epoch#21\n"
     ]
    },
    {
     "name": "stderr",
     "output_type": "stream",
     "text": [
      "100%|██████████| 556/556 [23:21<00:00,  2.52s/it]\n"
     ]
    },
    {
     "name": "stdout",
     "output_type": "stream",
     "text": [
      "Epoch: 21/100 Loss: 3.3790740966796875\n",
      "Epoch#22\n"
     ]
    },
    {
     "name": "stderr",
     "output_type": "stream",
     "text": [
      "100%|██████████| 556/556 [23:21<00:00,  2.52s/it]\n",
      "/home/fahimul/.conda/envs/CVGL/lib/python3.11/site-packages/huggingface_hub/file_download.py:1132: FutureWarning: `resume_download` is deprecated and will be removed in version 1.0.0. Downloads always resume when possible. If you want to force a new download, use `force_download=True`.\n",
      "  warnings.warn(\n"
     ]
    },
    {
     "name": "stdout",
     "output_type": "stream",
     "text": [
      "Epoch: 22/100 Loss: 3.3775341510772705\n",
      "\n",
      "Train Step Eval: 22\n",
      "\n",
      "\n",
      "Number of Validation data: 8884\n",
      "\n",
      "Extract Features:\n"
     ]
    },
    {
     "name": "stderr",
     "output_type": "stream",
     "text": [
      "100%|██████████| 139/139 [05:36<00:00,  2.42s/it]\n"
     ]
    },
    {
     "name": "stdout",
     "output_type": "stream",
     "text": [
      "Compute Scores:\n",
      "Percentage-top1:25.934263845114813, top5:52.85907248986943, top10:65.16208914903197, top1%:92.85231877532642, time:0.21867775917053223\n",
      "[25.93426385 52.85907249 65.16208915 92.85231878]\n",
      "Epoch#23\n"
     ]
    },
    {
     "name": "stderr",
     "output_type": "stream",
     "text": [
      "100%|██████████| 556/556 [23:06<00:00,  2.49s/it]\n"
     ]
    },
    {
     "name": "stdout",
     "output_type": "stream",
     "text": [
      "Epoch: 23/100 Loss: 3.3760833740234375\n",
      "Epoch#24\n"
     ]
    },
    {
     "name": "stderr",
     "output_type": "stream",
     "text": [
      "100%|██████████| 556/556 [23:07<00:00,  2.50s/it]\n",
      "/home/fahimul/.conda/envs/CVGL/lib/python3.11/site-packages/huggingface_hub/file_download.py:1132: FutureWarning: `resume_download` is deprecated and will be removed in version 1.0.0. Downloads always resume when possible. If you want to force a new download, use `force_download=True`.\n",
      "  warnings.warn(\n"
     ]
    },
    {
     "name": "stdout",
     "output_type": "stream",
     "text": [
      "Epoch: 24/100 Loss: 3.3747146129608154\n",
      "\n",
      "Train Step Eval: 24\n",
      "\n",
      "\n",
      "Number of Validation data: 8884\n",
      "\n",
      "Extract Features:\n"
     ]
    },
    {
     "name": "stderr",
     "output_type": "stream",
     "text": [
      "100%|██████████| 139/139 [05:43<00:00,  2.47s/it]\n"
     ]
    },
    {
     "name": "stdout",
     "output_type": "stream",
     "text": [
      "Compute Scores:\n",
      "Percentage-top1:26.14813147230977, top5:53.16298964430437, top10:65.60108059432687, top1%:92.98739306618641, time:0.21822309494018555\n",
      "[26.14813147 53.16298964 65.60108059 92.98739307]\n",
      "Epoch#25\n"
     ]
    },
    {
     "name": "stderr",
     "output_type": "stream",
     "text": [
      "100%|██████████| 556/556 [23:14<00:00,  2.51s/it]\n"
     ]
    },
    {
     "name": "stdout",
     "output_type": "stream",
     "text": [
      "Epoch: 25/100 Loss: 3.373420000076294\n",
      "Epoch#26\n"
     ]
    },
    {
     "name": "stderr",
     "output_type": "stream",
     "text": [
      "100%|██████████| 556/556 [23:13<00:00,  2.51s/it]\n",
      "/home/fahimul/.conda/envs/CVGL/lib/python3.11/site-packages/huggingface_hub/file_download.py:1132: FutureWarning: `resume_download` is deprecated and will be removed in version 1.0.0. Downloads always resume when possible. If you want to force a new download, use `force_download=True`.\n",
      "  warnings.warn(\n"
     ]
    },
    {
     "name": "stdout",
     "output_type": "stream",
     "text": [
      "Epoch: 26/100 Loss: 3.3721940517425537\n",
      "\n",
      "Train Step Eval: 26\n",
      "\n",
      "\n",
      "Number of Validation data: 8884\n",
      "\n",
      "Extract Features:\n"
     ]
    },
    {
     "name": "stderr",
     "output_type": "stream",
     "text": [
      "100%|██████████| 139/139 [05:38<00:00,  2.43s/it]\n"
     ]
    },
    {
     "name": "stdout",
     "output_type": "stream",
     "text": [
      "Compute Scores:\n",
      "Percentage-top1:26.452048626744713, top5:53.770823953174244, top10:65.9500225123818, top1%:93.23502926609635, time:0.21695923805236816\n",
      "[26.45204863 53.77082395 65.95002251 93.23502927]\n",
      "Epoch#27\n"
     ]
    },
    {
     "name": "stderr",
     "output_type": "stream",
     "text": [
      "100%|██████████| 556/556 [23:09<00:00,  2.50s/it]\n"
     ]
    },
    {
     "name": "stdout",
     "output_type": "stream",
     "text": [
      "Epoch: 27/100 Loss: 3.3710317611694336\n",
      "Epoch#28\n"
     ]
    },
    {
     "name": "stderr",
     "output_type": "stream",
     "text": [
      "100%|██████████| 556/556 [23:17<00:00,  2.51s/it]\n",
      "/home/fahimul/.conda/envs/CVGL/lib/python3.11/site-packages/huggingface_hub/file_download.py:1132: FutureWarning: `resume_download` is deprecated and will be removed in version 1.0.0. Downloads always resume when possible. If you want to force a new download, use `force_download=True`.\n",
      "  warnings.warn(\n"
     ]
    },
    {
     "name": "stdout",
     "output_type": "stream",
     "text": [
      "Epoch: 28/100 Loss: 3.3699283599853516\n",
      "\n",
      "Train Step Eval: 28\n",
      "\n",
      "\n",
      "Number of Validation data: 8884\n",
      "\n",
      "Extract Features:\n"
     ]
    },
    {
     "name": "stderr",
     "output_type": "stream",
     "text": [
      "100%|██████████| 139/139 [05:37<00:00,  2.42s/it]\n"
     ]
    },
    {
     "name": "stdout",
     "output_type": "stream",
     "text": [
      "Compute Scores:\n",
      "Percentage-top1:26.643403872129674, top5:54.20981539846916, top10:66.09635299414678, top1%:93.40387212967131, time:0.21810030937194824\n",
      "[26.64340387 54.2098154  66.09635299 93.40387213]\n",
      "Epoch#29\n"
     ]
    },
    {
     "name": "stderr",
     "output_type": "stream",
     "text": [
      "100%|██████████| 556/556 [23:29<00:00,  2.53s/it]\n"
     ]
    },
    {
     "name": "stdout",
     "output_type": "stream",
     "text": [
      "Epoch: 29/100 Loss: 3.368879556655884\n",
      "Epoch#30\n"
     ]
    },
    {
     "name": "stderr",
     "output_type": "stream",
     "text": [
      "100%|██████████| 556/556 [23:30<00:00,  2.54s/it]\n",
      "/home/fahimul/.conda/envs/CVGL/lib/python3.11/site-packages/huggingface_hub/file_download.py:1132: FutureWarning: `resume_download` is deprecated and will be removed in version 1.0.0. Downloads always resume when possible. If you want to force a new download, use `force_download=True`.\n",
      "  warnings.warn(\n"
     ]
    },
    {
     "name": "stdout",
     "output_type": "stream",
     "text": [
      "Epoch: 30/100 Loss: 3.367882251739502\n",
      "\n",
      "Train Step Eval: 30\n",
      "\n",
      "\n",
      "Number of Validation data: 8884\n",
      "\n",
      "Extract Features:\n"
     ]
    },
    {
     "name": "stderr",
     "output_type": "stream",
     "text": [
      "100%|██████████| 139/139 [05:37<00:00,  2.42s/it]\n"
     ]
    },
    {
     "name": "stdout",
     "output_type": "stream",
     "text": [
      "Compute Scores:\n",
      "Percentage-top1:26.82350292660963, top5:54.46870778928411, top10:66.25393966681675, top1%:93.49392165691131, time:0.22869277000427246\n",
      "[26.82350293 54.46870779 66.25393967 93.49392166]\n",
      "Epoch#31\n"
     ]
    },
    {
     "name": "stderr",
     "output_type": "stream",
     "text": [
      "100%|██████████| 556/556 [23:26<00:00,  2.53s/it]\n"
     ]
    },
    {
     "name": "stdout",
     "output_type": "stream",
     "text": [
      "Epoch: 31/100 Loss: 3.3669333457946777\n",
      "Epoch#32\n"
     ]
    },
    {
     "name": "stderr",
     "output_type": "stream",
     "text": [
      "100%|██████████| 556/556 [23:26<00:00,  2.53s/it]\n",
      "/home/fahimul/.conda/envs/CVGL/lib/python3.11/site-packages/huggingface_hub/file_download.py:1132: FutureWarning: `resume_download` is deprecated and will be removed in version 1.0.0. Downloads always resume when possible. If you want to force a new download, use `force_download=True`.\n",
      "  warnings.warn(\n"
     ]
    },
    {
     "name": "stdout",
     "output_type": "stream",
     "text": [
      "Epoch: 32/100 Loss: 3.366029977798462\n",
      "\n",
      "Train Step Eval: 32\n",
      "\n",
      "\n",
      "Number of Validation data: 8884\n",
      "\n",
      "Extract Features:\n"
     ]
    },
    {
     "name": "stderr",
     "output_type": "stream",
     "text": [
      "100%|██████████| 139/139 [05:38<00:00,  2.44s/it]\n"
     ]
    },
    {
     "name": "stdout",
     "output_type": "stream",
     "text": [
      "Compute Scores:\n",
      "Percentage-top1:26.969833408374605, top5:54.55875731652409, top10:66.5015758667267, top1%:93.49392165691131, time:0.22478818893432617\n",
      "[26.96983341 54.55875732 66.50157587 93.49392166]\n",
      "Epoch#33\n"
     ]
    },
    {
     "name": "stderr",
     "output_type": "stream",
     "text": [
      " 96%|█████████▌| 535/556 [22:27<00:53,  2.53s/it]"
     ]
    }
   ],
   "source": [
    "from datetime import datetime\n",
    "import os\n",
    "import pandas as pd\n",
    "import torch\n",
    "import torch.nn as nn\n",
    "import torch.optim as optim\n",
    "import torchvision\n",
    "from torchvision import datasets, transforms\n",
    "from torch.utils.data import DataLoader, Dataset\n",
    "from tqdm import tqdm\n",
    "import time\n",
    "# from torch.cuda.amp import autocast\n",
    "import numpy as np\n",
    "from CVUSA_dataset import CVUSA_dataset_cropped, CVUSA_Dataset_Eval\n",
    "# from CVUSA_dataset import CVUSA_Dataset_Eval\n",
    "from custom_models import ResNet, VIT, CLIP_model\n",
    "from losses import Contrastive_loss, SoftTripletBiLoss, InfoNCE\n",
    "from train import train\n",
    "from eval import predict, accuracy, calculate_scores\n",
    "import torch.nn.functional as F\n",
    "import copy\n",
    "import math\n",
    "from pytorch_metric_learning import losses as LS\n",
    "from helper_func import get_rand_id, hyparam_info, save_exp, write_to_file, write_to_rank_file\n",
    "from transformers import CLIPProcessor\n",
    "from attributes import Configuration as hypm\n",
    "\n",
    "\n",
    "\n",
    "\n",
    "# data_path = '/media/fahimul/2B721C03261BDC8D/Research/datasets/CVUSA' #don't include the / at the end\n",
    "# data_path = '/home/fa947945/datasets/CVUSA_Cropped/CVUSA' #don't include the / at the end\n",
    "data_path = '/data/Research/Dataset/CVUSA_Cropped/CVUSA' #don't include the / at the end\n",
    "\n",
    "train_data= pd.read_csv(f'{data_path}/splits/train-19zl.csv', header=None)\n",
    "# train_data= pd.read_csv(f'{data_path}/splits/train-19zl_5.csv', header=None)\n",
    "# train_data= pd.read_csv(f'{data_path}/splits/train-19zl_30.csv', header=None)\n",
    "\n",
    "val_data= pd.read_csv(f'{data_path}/splits/val-19zl.csv', header=None)\n",
    "\n",
    "# df_loss = pd.DataFrame(columns=['Loss'])\n",
    "\n",
    "transform = transforms.Compose([\n",
    "    # transforms.Resize((224, 224)),\n",
    "    transforms.RandomCrop(224),\n",
    "    transforms.ToTensor(),\n",
    "    transforms.Normalize(mean=[0.485, 0.456, 0.406], \n",
    "                         std=[0.229, 0.224, 0.225]),\n",
    "])\n",
    "\n",
    "\n",
    "train_ds = CVUSA_dataset_cropped(df = train_data, path=data_path, transform=transform, train=True, lang=hypm.lang)\n",
    "val_ds = CVUSA_dataset_cropped(df = val_data, path=data_path, transform=transform, train=False, lang=hypm.lang)\n",
    "\n",
    "# val_que = CVUSA_Dataset_Eval(data_folder=data_path, split='val', img_type='query', transforms=transform)\n",
    "# val_ref = CVUSA_Dataset_Eval(data_folder=data_path, split='val', img_type='reference', transforms=transform)\n",
    "\n",
    "\n",
    "\n",
    "\n",
    "\n",
    "def main():\n",
    "    device = torch.device('cuda' if torch.cuda.is_available() else 'cpu')\n",
    "    embed_dim = 512\n",
    "    lr = 0.000001\n",
    "    batch_size = 64\n",
    "    epochs = 100\n",
    "    expID = get_rand_id()\n",
    "    loss_margin = 1\n",
    "\n",
    "    hypm.expID = expID\n",
    "\n",
    "\n",
    "\n",
    "\n",
    "\n",
    "\n",
    "    # print(f\"Device: {device}\")\n",
    "\n",
    "\n",
    "    train_loader = DataLoader(train_ds, batch_size=hypm.batch_size, shuffle=False)\n",
    "    val_loader = DataLoader(val_ds, batch_size=hypm.batch_size, shuffle=False)\n",
    "    # val_loader_ref = DataLoader(val_ref, batch_size=hypm.batch_size, shuffle=False)\n",
    "\n",
    "    if hypm.save_weights:\n",
    "        os.mkdir(f'model_weights/{hypm.expID}')\n",
    "\n",
    "    # model = ResNet(emb_dim=embed_dim).to(device)\n",
    "    # model_r = ResNet(emb_dim=embed_dim).to(device)\n",
    "    # model_q = ResNet(emb_dim=embed_dim).to(device)\n",
    "\n",
    "    # model = ResNet().to(device)\n",
    "    # model = VIT().to(device)\n",
    "    model = CLIP_model(embed_dim=hypm.embed_dim)\n",
    "\n",
    "    # model = torch.load(f'model_weights/{7355080}/model_tr.pth')\n",
    "\n",
    "    # torch.save(model, f'model_weights/{expID}/model_st.pth')\n",
    "\n",
    "    # criterion = TripletLoss(margin=loss_margin)\n",
    "    # criterion = nn.TripletMarginLoss(margin=0.5)\n",
    "  \n",
    "    # criterion = SoftTripletBiLoss()\n",
    "\n",
    "    loss_fn = torch.nn.CrossEntropyLoss(label_smoothing=hypm.label_smoothing)\n",
    "    criterion = InfoNCE(loss_function=loss_fn,\n",
    "                            device=hypm.device,\n",
    "                            )\n",
    "\n",
    "\n",
    "\n",
    "    parameters = list(filter(lambda p: p.requires_grad, model.parameters()))\n",
    "    # for name, param in model.named_parameters():\n",
    "    #     if param.requires_grad:\n",
    "    #         print(name)\n",
    "    optimizer = optim.Adam(parameters, lr=hypm.lr)\n",
    "    # optimizer = optim.AdamW(parameters, lr=lr)\n",
    "    # optimizer = optim.SGD(parameters, lr=lr)\n",
    "\n",
    "\n",
    "    \n",
    "    \n",
    "    hyparam_info(emb_dim = hypm.embed_dim, \n",
    "                 loss_id = hypm.expID, \n",
    "                 ln_rate = hypm.lr, \n",
    "                 batch = hypm.batch_size, \n",
    "                 epc = hypm.epochs, \n",
    "                 ls_mrgn = hypm.loss_margin, \n",
    "                 trn_sz = train_data.shape[0],\n",
    "                 val_sz= val_data.shape[0],\n",
    "                 mdl_nm = model.modelName)\n",
    "    \n",
    "    save_exp(emb_dim=hypm.embed_dim, \n",
    "                loss_id=hypm.expID, \n",
    "                ln_rate=hypm.lr, \n",
    "                batch=hypm.batch_size, \n",
    "                epc=hypm.epochs, \n",
    "                ls_mrgn=hypm.loss_margin, \n",
    "                trn_sz=train_data.shape[0],\n",
    "                val_sz= val_data.shape[0],\n",
    "                mdl_nm=model.modelName,\n",
    "                msg= hypm.msg)\n",
    "\n",
    "    print(\"Training Start\")\n",
    "    all_loses = train(model, criterion, optimizer, train_loader, num_epochs=hypm.epochs, dev=hypm.device)\n",
    "    df_loss = pd.DataFrame({'Loss': all_loses})\n",
    "    df_loss.to_csv(f'losses/losses_{hypm.expID}.csv')\n",
    "\n",
    "    write_to_file(expID=hypm.expID, msg=f'End of training: ', content=datetime.now())\n",
    "\n",
    "\n",
    "    print(\"\\nExtract Features:\")\n",
    "    query_features, reference_features, labels = predict(model=model, dataloader=val_loader, dev=hypm.device, isQuery=True)\n",
    "    # reference_features, reference_labels = predict(model = model, dataloader=val_loader_ref, dev=hypm.device, isQuery=False) \n",
    "    \n",
    "\n",
    "\n",
    "    print(\"Compute Scores:\")\n",
    "    # r1 =  calculate_scores(query_features, reference_features, query_labels, reference_labels, step_size=1000, ranks=[1, 5, 10])\n",
    "    r1 =  accuracy(query_features=query_features, reference_features=reference_features, query_labels=labels, topk=[1, 5, 10])\n",
    "    print(f'{r1}\\n') \n",
    "\n",
    "    write_to_file(expID=hypm.expID, msg=f'Final eval: ', content=r1)\n",
    "    write_to_rank_file(expID=hypm.expID, step=hypm.epochs, row=r1)\n",
    "\n",
    "\n",
    "\n",
    "    if hypm.save_weights:\n",
    "        torch.save(model, f'model_weights/{hypm.expID}/model_tr.pth')\n",
    "    \n",
    "\n",
    "\n",
    "\n",
    "\n",
    "\n",
    "    torch.cuda.empty_cache()\n",
    "        \n",
    "\n",
    "\n",
    "\n",
    "\n",
    "\n",
    "\n",
    "if __name__ == '__main__':\n",
    "    main()\n"
   ]
  }
 ],
 "metadata": {
  "kernelspec": {
   "display_name": "base",
   "language": "python",
   "name": "python3"
  },
  "language_info": {
   "codemirror_mode": {
    "name": "ipython",
    "version": 3
   },
   "file_extension": ".py",
   "mimetype": "text/x-python",
   "name": "python",
   "nbconvert_exporter": "python",
   "pygments_lexer": "ipython3",
   "version": "3.11.5"
  }
 },
 "nbformat": 4,
 "nbformat_minor": 2
}
